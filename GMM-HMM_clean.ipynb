{
 "cells": [
  {
   "cell_type": "code",
   "execution_count": 1,
   "metadata": {
    "collapsed": true
   },
   "outputs": [],
   "source": [
    "from __future__ import division\n",
    "import numpy as np\n",
    "from numpy.random import choice, normal, multivariate_normal\n",
    "from scipy.cluster.vq import kmeans2\n",
    "import matplotlib.pyplot as plt\n",
    "import seaborn as sns\n",
    "import pickle as pkl\n",
    "import glob\n",
    "%matplotlib inline\n",
    "import csv\n",
    "def read_data(file_path):\n",
    "    # The read-in data should be a N*W matrix,\n",
    "    # where N is the length of the time sequences,\n",
    "    # W is the number of sensors/data features\n",
    "    i = 0\n",
    "    with open(file_path, 'r') as file:\n",
    "        reader = csv.reader(file, delimiter = ',')\n",
    "        for line in reader:\n",
    "            line = np.array(line, dtype = 'float') # str2float\n",
    "            if i == 0:\n",
    "                data = line\n",
    "            else:\n",
    "                data = np.vstack((data, line))\n",
    "            i += 1\n",
    "    return data"
   ]
  },
  {
   "cell_type": "code",
   "execution_count": 2,
   "metadata": {
    "collapsed": true
   },
   "outputs": [],
   "source": [
    "'''\n",
    "Load the segments where a continuous obs car exists\n",
    "'''\n",
    "data_path = \"drive_segments/*.csv\"\n",
    "files = glob.glob(data_path)\n",
    "all_segs = []\n",
    "for name in files:\n",
    "    data = read_data(name)#[frame_id, x_obs,y_obs,dv,a_obs]\n",
    "    data[:,0] += 1149 # change the \n",
    "    all_segs.append(data)\n",
    "'''\n",
    "load the ego car data\n",
    "'''\n",
    "ego_data_path = \"ego_data_24d.csv\"\n",
    "ego_data = read_data(ego_data_path)\n",
    "ego_lane = ego_data[:,[18,19,15,16,20,21,22,23]]\n",
    "ego_data = ego_data[:,[0,9,17,14,18,19]] # x_dot_ego ,accel_x, psi_T_0, r_rate, left_dist, right_dist\n",
    "'''\n",
    "Load the MRM result\n",
    "'''\n",
    "data_name='MRM_result.pkl'\n",
    "MRM_results = pkl.load(open(data_name, 'rb'))"
   ]
  },
  {
   "cell_type": "code",
   "execution_count": 3,
   "metadata": {
    "collapsed": true
   },
   "outputs": [],
   "source": [
    "'''\n",
    "match obs car data segments with ego car data\n",
    "'''\n",
    "num_actions = 3\n",
    "data_segments = []\n",
    "for segment in all_segs:\n",
    "    ego_lane_list = []\n",
    "    ego_car_list = []\n",
    "    ego_prob_list = []\n",
    "    obs_prob_list = []\n",
    "    violation_prob_list = []\n",
    "    for i, MRM in enumerate(MRM_results):\n",
    "        if MRM['frame_id'] < 1150: # skip parking lot\n",
    "            continue\n",
    "        if MRM['frame_id']+1 in segment[:,0]:\n",
    "            # read ego car data\n",
    "            ego_lane_data = ego_lane[MRM['frame_id'],:]\n",
    "            ego_car_data = ego_data[MRM['frame_id'],:]\n",
    "            matched_obs_idx = np.where(MRM['obs_id'] == segment[0,1])[0]\n",
    "            ego_action_prob = np.reshape(MRM['ego_probs'], (num_actions,))\n",
    "            obs_action_prob = np.reshape(MRM['obs_probs'][:,matched_obs_idx], (num_actions,))#matched_obs_idx*3:(matched_obs_idx+1)*3\n",
    "            violation_prob = np.reshape(MRM['violation_prob'][:,matched_obs_idx,:], (num_actions, num_actions))\n",
    "\n",
    "            # save to list\n",
    "            ego_lane_list.append(ego_lane_data)\n",
    "            ego_car_list.append(ego_car_data)\n",
    "            ego_prob_list.append(ego_action_prob)\n",
    "            obs_prob_list.append(obs_action_prob)\n",
    "            violation_prob_list.append(violation_prob)\n",
    "    ego_lane_list = np.array(ego_lane_list)\n",
    "    ego_car_list = np.array(ego_car_list)\n",
    "    ego_prob_list = np.array(ego_prob_list)        \n",
    "    obs_prob_list = np.array(obs_prob_list)\n",
    "    violation_prob_list = np.array(violation_prob_list)\n",
    "    \n",
    "    concat_seg = np.hstack([segment[:,3:7],ego_car_list])\n",
    "    data_segments.append(concat_seg)\n"
   ]
  },
  {
   "cell_type": "code",
   "execution_count": null,
   "metadata": {
    "collapsed": true
   },
   "outputs": [],
   "source": [
    "\n",
    "import matplotlib.pyplot as plt\n",
    "import seaborn as sns\n",
    "class GMM_HMM():\n",
    "    def __init__(self,num_seq,data,M=3,K=10,model='Gaussian',kmeans_init=False):\n",
    "        self.K = K # number of hidden states\n",
    "        self.M = M # number of modes of Gaussian mixture model for each state\n",
    "        self.data = data # all segments\n",
    "        self.num_seq = num_seq # number of sequences used to train\n",
    "        self.model = model # observation model, Gaussian or GMM\n",
    "\n",
    "        # initial prior of states\n",
    "        self.pi0 = np.ones(self.K)*1/self.K # first state prior, a (K,) array\n",
    "        #\n",
    "        if num_seq > 1:\n",
    "            self.n, self.d = data[0].shape\n",
    "            len_seq = self.data[0].shape[0] # length of each data sequence\n",
    "            self.ravel_data = self.data[0] # reshape multiple sequences in to a long sequence for GMM only\n",
    "            for i , data in enumerate(self.data):\n",
    "                if i > 0:\n",
    "                    self.ravel_data = np.vstack([self.ravel_data,data])\n",
    "                    len_seq = np.append(len_seq, data.shape[0])\n",
    "        \n",
    "        if kmeans_init:\n",
    "            self.state = kmeans2(self.ravel_data, self.K)[1]\n",
    "        else:\n",
    "            self.state = choice(self.K, self.ravel_data.shape[0])\n",
    "        if self.model == 'Gaussian' or 'GMM':\n",
    "            # compute parameter for each cluster\n",
    "            self.mu = []\n",
    "            self.sigma = []\n",
    "            for k in range(self.K):\n",
    "                idx = np.where(self.state==k)[0] # multi variable\n",
    "                nc = len(idx)\n",
    "                if nc:# multi variable\n",
    "                    cluster = np.reshape(self.ravel_data[idx,:],(nc,self.d))\n",
    "                    self.mu.append(np.mean(cluster,0)) # multi variable\n",
    "                    if nc > 1:\n",
    "                        self.sigma.append(np.cov(cluster,rowvar=False)) # multi variable\n",
    "                    else:\n",
    "                        self.sigma.append(np.eye(self.d))\n",
    "                else:\n",
    "                    cluster = []\n",
    "                    self.mu.append(multivariate_normal(np.zeros(self.d), np.eye(self.d))) # multi variable\n",
    "                    self.sigma.append(np.eye(self.d)) # multi variable\n",
    "        \n",
    "        # transition model \n",
    "        self.N = np.zeros((self.K, self.K))\n",
    "        ctr = 0\n",
    "        for i  in range(num_seq):\n",
    "            self.data[i].shape[0]\n",
    "            ctr += 1\n",
    "            for n in range(1, len_seq[i]):\n",
    "                self.N[self.state[ctr-1], self.state[ctr]] += 1\n",
    "                ctr += 1\n",
    "        self.A = (self.N.T/(np.sum(self.N, axis=1)+1e-7)).T\n",
    "                \n",
    "        if self.model == 'GMM':\n",
    "            self.omega = np.ones(self.K) * 1/self.K\n",
    "            \n",
    "        self.xi_list = []\n",
    "        self.gamma_list = []\n",
    "        self.p_list = []\n",
    "        self.log_like_matrix_list = []\n",
    "        \n",
    "    def train(self,num_iter,converge_thresh):\n",
    "        prevQ = -1e20\n",
    "        i = 0\n",
    "        while i < num_iter:\n",
    "            gamma_list = []\n",
    "            xi_list = []\n",
    "            p_list = []\n",
    "            log_like_matrix_list = [] \n",
    "            for j, segment in enumerate(self.data):\n",
    "                log_like_matrix = self.log_likelihood_matrix(segment)\n",
    "                alpha,beta = self.forward_backward_algorithm(segment,log_like_matrix)\n",
    "                gamma, xi, P = self.E_step(alpha,beta,segment,log_like_matrix)\n",
    "\n",
    "                gamma_list.append(gamma)\n",
    "                xi_list.append(xi)\n",
    "                p_list.append(P)\n",
    "                log_like_matrix_list.append(log_like_matrix)\n",
    "                \n",
    "            Q = self.check_log_likelihood(gamma_list, xi_list, log_like_matrix_list)\n",
    "\n",
    "            self.M_step(gamma_list, xi_list, p_list)\n",
    "            \n",
    "            print ('log-likelihood: ', Q)\n",
    "            if Q < prevQ:\n",
    "                print('warning: the log-likelihood is decreasing')\n",
    "            if abs(Q - prevQ) < converge_thresh:\n",
    "                print('THe log-likelihood converges')\n",
    "                return\n",
    "            prevQ = Q\n",
    "            i += 1\n",
    "            \n",
    "    def forward_backward_algorithm(self, data, log_like_matrix):\n",
    "        # forward\n",
    "        T = data.shape[0]\n",
    "        alpha = np.zeros((T, self.K))\n",
    "        alpha[0, :] = self.pi0*np.exp(log_like_matrix[0,:])#1\n",
    "        for t in range(1, T):\n",
    "            alpha[t,:] = (self.A.T.dot(alpha[t-1,:])) * np.exp(log_like_matrix[t,:])\n",
    "            alpha[t, :] /= np.max(alpha[t, :])\n",
    "        # backward\n",
    "        beta = np.zeros((T, self.K))\n",
    "        beta[-1, :] = 1\n",
    "        for t in range(T - 1, 0, -1):\n",
    "            beta[t-1, :] = self.A.dot(beta[t, :] * np.exp(log_like_matrix[t,:]))\n",
    "            beta[t-1, :] /= np.max(beta[t-1, :])\n",
    "            \n",
    "        return alpha, beta\n",
    "    \n",
    "     def E_step(self,alpha,beta,segment,log_like_matrix):\n",
    "        T = segment.shape[0]\n",
    "        pX = np.reshape(np.sum(alpha*beta,axis=1),(T,1)) \n",
    "        gamma = alpha*beta/pX # n * k matrix\n",
    "        \n",
    "        xi = np.zeros([T-1, self.K, self.K]) # n-1 * k * k matrix\n",
    "        for n in range(1,T):    \n",
    "            xi_num = (np.dot(np.reshape(alpha[n-1,:],(self.K,1)),\n",
    "                             np.reshape(np.exp(log_like_matrix[n,:]) * beta[n,:], (1,self.K))) *\\\n",
    "                                  self.A)\n",
    "            xi_den = np.sum(np.sum(xi_num,axis=1))\n",
    "            xi[n-1,:,:] = xi_num/xi_den\n",
    "        '''\n",
    "        Figure out the difference using MGD and GMM model in E-step\n",
    "        '''\n",
    "        P = self.omega * log_like_matrix / np.reshape(np.sum(self.omega * log_like_matrix, axis=1), (T,1)) # an n*K matrix\n",
    "        return gamma, xi, P"
   ]
  },
  {
   "cell_type": "code",
   "execution_count": 4,
   "metadata": {
    "collapsed": true
   },
   "outputs": [],
   "source": [
    "num_train = 250\n",
    "train_data = data_segments[0:num_train]\n",
    "test_data = data_segments[num_train:]"
   ]
  },
  {
   "cell_type": "code",
   "execution_count": 9,
   "metadata": {
    "collapsed": false
   },
   "outputs": [
    {
     "name": "stderr",
     "output_type": "stream",
     "text": [
      "/Users/BrianYao/anaconda2/lib/python2.7/site-packages/sklearn/utils/deprecation.py:52: DeprecationWarning: Class GMM is deprecated; The class GMM is deprecated in 0.18 and will be  removed in 0.20. Use class GaussianMixture instead.\n",
      "  warnings.warn(msg, category=DeprecationWarning)\n",
      "/Users/BrianYao/anaconda2/lib/python2.7/site-packages/sklearn/utils/deprecation.py:52: DeprecationWarning: Class GMM is deprecated; The class GMM is deprecated in 0.18 and will be  removed in 0.20. Use class GaussianMixture instead.\n",
      "  warnings.warn(msg, category=DeprecationWarning)\n",
      "/Users/BrianYao/anaconda2/lib/python2.7/site-packages/sklearn/utils/deprecation.py:52: DeprecationWarning: Class GMM is deprecated; The class GMM is deprecated in 0.18 and will be  removed in 0.20. Use class GaussianMixture instead.\n",
      "  warnings.warn(msg, category=DeprecationWarning)\n",
      "/Users/BrianYao/anaconda2/lib/python2.7/site-packages/sklearn/utils/deprecation.py:52: DeprecationWarning: Class GMM is deprecated; The class GMM is deprecated in 0.18 and will be  removed in 0.20. Use class GaussianMixture instead.\n",
      "  warnings.warn(msg, category=DeprecationWarning)\n",
      "/Users/BrianYao/anaconda2/lib/python2.7/site-packages/sklearn/utils/deprecation.py:52: DeprecationWarning: Class GMM is deprecated; The class GMM is deprecated in 0.18 and will be  removed in 0.20. Use class GaussianMixture instead.\n",
      "  warnings.warn(msg, category=DeprecationWarning)\n",
      "/Users/BrianYao/anaconda2/lib/python2.7/site-packages/sklearn/utils/deprecation.py:52: DeprecationWarning: Class GMM is deprecated; The class GMM is deprecated in 0.18 and will be  removed in 0.20. Use class GaussianMixture instead.\n",
      "  warnings.warn(msg, category=DeprecationWarning)\n",
      "/Users/BrianYao/anaconda2/lib/python2.7/site-packages/sklearn/utils/deprecation.py:52: DeprecationWarning: Class GMM is deprecated; The class GMM is deprecated in 0.18 and will be  removed in 0.20. Use class GaussianMixture instead.\n",
      "  warnings.warn(msg, category=DeprecationWarning)\n",
      "/Users/BrianYao/anaconda2/lib/python2.7/site-packages/sklearn/utils/deprecation.py:52: DeprecationWarning: Class GMM is deprecated; The class GMM is deprecated in 0.18 and will be  removed in 0.20. Use class GaussianMixture instead.\n",
      "  warnings.warn(msg, category=DeprecationWarning)\n",
      "/Users/BrianYao/anaconda2/lib/python2.7/site-packages/sklearn/utils/deprecation.py:52: DeprecationWarning: Class GMM is deprecated; The class GMM is deprecated in 0.18 and will be  removed in 0.20. Use class GaussianMixture instead.\n",
      "  warnings.warn(msg, category=DeprecationWarning)\n",
      "/Users/BrianYao/anaconda2/lib/python2.7/site-packages/sklearn/utils/deprecation.py:52: DeprecationWarning: Class GMM is deprecated; The class GMM is deprecated in 0.18 and will be  removed in 0.20. Use class GaussianMixture instead.\n",
      "  warnings.warn(msg, category=DeprecationWarning)\n"
     ]
    }
   ],
   "source": [
    "from hmmlearn import hmm\n",
    "length = []\n",
    "for data in train_data:\n",
    "    length.append(data.shape[0])\n",
    "X = np.concatenate(train_data)\n",
    "# from sklearn.hmm import GMMHMM\n",
    "gmm_hmm = hmm.GMMHMM(n_components=10, n_mix=2, n_iter=10,verbose=True)\n"
   ]
  },
  {
   "cell_type": "code",
   "execution_count": 7,
   "metadata": {
    "collapsed": true
   },
   "outputs": [],
   "source": [
    "from hmmlearn import hmm\n",
    "length = []\n",
    "for data in test_data:\n",
    "    length.append(data.shape[0])\n",
    "X = np.concatenate(test_data)"
   ]
  },
  {
   "cell_type": "code",
   "execution_count": 8,
   "metadata": {
    "collapsed": false
   },
   "outputs": [
    {
     "name": "stdout",
     "output_type": "stream",
     "text": [
      "Model name:  GMMHMM_models/GMMHMM_model_15_5.pkl\n",
      "score: -11915.3209493\n",
      "Model name:  GMMHMM_models/GMMHMM_model_15_2.pkl\n",
      "score: -19816.0044618\n",
      "Model name:  GMMHMM_models/GMMHMM_model_10_2.pkl\n",
      "score: -26039.3877891\n",
      "Model name:  GMMHMM_models/GMMHMM_model_5_2.pkl\n",
      "score: -26093.4482798\n",
      "Model name:  GMMHMM_models/GMMHMM_model_10_5.pkl\n",
      "score: -11866.1466171\n",
      "Model name:  GMMHMM_models/GMMHMM_model_30_2.pkl\n",
      "score: -20508.6203886\n",
      "Model name:  GMMHMM_models/GMMHMM_model_5_5.pkl\n",
      "score: -16634.0402181\n",
      "Model name:  GMMHMM_models/GMMHMM_model_5_8.pkl\n",
      "score: -14668.0039852\n",
      "Model name:  GMMHMM_models/GMMHMM_model_25_2.pkl\n",
      "score: -20772.563768\n",
      "Model name:  GMMHMM_models/GMMHMM_model_10_8.pkl\n",
      "score: -11831.6727761\n",
      "Model name:  GMMHMM_models/GMMHMM_model_20_5.pkl\n",
      "score: -9968.9422679\n",
      "Model name:  GMMHMM_models/GMMHMM_model_20_2.pkl\n",
      "score: -21125.2611052\n"
     ]
    },
    {
     "data": {
      "text/plain": [
       "<function matplotlib.pyplot.show>"
      ]
     },
     "execution_count": 8,
     "metadata": {},
     "output_type": "execute_result"
    },
    {
     "data": {
      "image/png": "[encoded data removed]",
      "text/plain": [
       "<matplotlib.figure.Figure at 0x116b80f98>"
      ]
     },
     "metadata": {},
     "output_type": "display_data"
    }
   ],
   "source": [
    "'''\n",
    "Read well-trained models and find the one with best score\n",
    "'''\n",
    "from hmmlearn import hmm\n",
    "from sklearn.externals import joblib\n",
    "import glob\n",
    "import warnings\n",
    "import seaborn as sns\n",
    "\n",
    "def fxn():\n",
    "    warnings.warn(\"deprecated\", DeprecationWarning)\n",
    "\n",
    "\n",
    "    \n",
    "model_path = 'GMMHMM_models/*.pkl'\n",
    "files = glob.glob(model_path)\n",
    "bset_model = []\n",
    "max_score = -1e10\n",
    "with warnings.catch_warnings():\n",
    "    warnings.simplefilter(\"ignore\")\n",
    "    fxn()\n",
    "    for name in files:\n",
    "        gmm_hmm = joblib.load(name)\n",
    "        print(\"Model name: \", name)\n",
    "        print(\"score:\", gmm_hmm.score(X, length))\n",
    "        if gmm_hmm.score(X, length) > max_score:\n",
    "            max_score = gmm_hmm.score(X, length)\n",
    "            best_model = gmm_hmm\n",
    "#     test = data_segments[251]\n",
    "#     z = best_model.predict(test)\n",
    "#     print (\"predicted state: \", z)\n",
    "#     plt.figure(2)\n",
    "#     plt.plot(test)\n",
    "#     test = data_segments[12]\n",
    "#     z = best_model.predict(test)\n",
    "#     print (\"predicted state: \", z)\n",
    "#     plt.figure(3)\n",
    "#     plt.plot(test)\n",
    "plt.figure(1)\n",
    "sns.heatmap(best_model.transmat_,vmin=0, vmax=0.05, cbar=False)\n",
    "plt.show"
   ]
  },
  {
   "cell_type": "code",
   "execution_count": 9,
   "metadata": {
    "collapsed": true
   },
   "outputs": [],
   "source": [
    "def gaussian_prob(x, mu,sigma):\n",
    "    diff = np.reshape((x-mu),(1,len(x)))\n",
    "    log_prob = (-1/2) * np.dot(np.dot(diff, np.linalg.pinv(sigma)), diff.T) - np.log(np.sqrt(np.linalg.det(2*np.pi*sigma)))\n",
    "    return float(np.exp(log_prob))"
   ]
  },
  {
   "cell_type": "code",
   "execution_count": 18,
   "metadata": {
    "collapsed": false
   },
   "outputs": [
    {
     "name": "stdout",
     "output_type": "stream",
     "text": [
      "predicted state:  [15 15 15 15 15 15 15 15 15 15 15 15 15 15 15 15 15 15 15 15 15 15 15 15 15\n",
      " 15 15 15 15 15 14 14 14 14 14 14 14 14 14 14  0  0  0  0  0  0]\n",
      "beta:  [  1.02860086e-053   9.89274241e-155   2.61299437e-047   5.88327810e-032\n",
      "   1.30233476e-058   1.39741071e-004   1.86286019e-022   4.03053979e-054\n",
      "   7.32037910e-029   4.42144031e-009   7.86594843e-084   4.25080216e-009\n",
      "   4.55182198e-016   2.35854240e-026   2.15767648e-030   3.57848583e-001\n",
      "   3.67369136e-001   2.74598035e-001   5.66083375e-044   4.44951114e-005]\n"
     ]
    },
    {
     "data": {
      "image/png": "[encoded data removed]",
      "text/plain": [
       "<matplotlib.figure.Figure at 0x118fb4f60>"
      ]
     },
     "metadata": {},
     "output_type": "display_data"
    }
   ],
   "source": [
    "'''\n",
    "run predict using well-trained model\n",
    "So far the hiddent variable is data[:,5] (accel) and data[:,7] (yaw rate)\n",
    "\n",
    "Observable data: {dx, dy, dv, v_ego, yaw_angle, velocity, d_l, d_r}\n",
    "Predict data: {acceleration, yaw_rate}\n",
    "'''\n",
    "observable_col = [0,1,2,3,4,6,8,9]\n",
    "hidden_col = [5,7]\n",
    "test = data_segments[254]\n",
    "test_obs = test[:,observable_col] # observable variable\n",
    "test_hidden = test[:,hidden_col] # hidden variable\n",
    "with warnings.catch_warnings():\n",
    "    warnings.simplefilter(\"ignore\")\n",
    "    fxn()\n",
    "    # use build-in predictor to predict\n",
    "    z = best_model.predict(test)\n",
    "    print (\"predicted state: \", z)\n",
    "    plt.figure(1)\n",
    "    plt.plot(test)\n",
    "    \n",
    "    \n",
    "    A = best_model.transmat_\n",
    " \n",
    "    x0 = test_obs[0,:]\n",
    "    num = []\n",
    "    den = 0\n",
    "    for gmm in best_model.gmms_:\n",
    "        omega = gmm.weights_\n",
    "        prob = 0\n",
    "        for m in range(gmm.means_.shape[0]):\n",
    "            mu = gmm.means_[m,observable_col]\n",
    "            sigma = np.diag(gmm.covars_[m, observable_col])\n",
    "            prob += omega[m] * gaussian_prob(x0, mu, sigma)\n",
    "        num.append(prob)\n",
    "    beta = np.array(num)/np.sum(num) # beta is (k,)\n",
    "    print (\"beta: \", beta)"
   ]
  },
  {
   "cell_type": "code",
   "execution_count": 24,
   "metadata": {
    "collapsed": false
   },
   "outputs": [
    {
     "name": "stdout",
     "output_type": "stream",
     "text": [
      "(20, 8)\n",
      "(20, 8)\n"
     ]
    }
   ],
   "source": [
    "    # compute the mean of mu and sigma for each state\n",
    "    mu_mean_list = []\n",
    "    sigma_mean_list = []\n",
    "    for gmm in best_model.gmms_:\n",
    "        mu_mean_list.append(np.mean(gmm.means_,axis=0))\n",
    "        sigma_mean_list.append(np.mean(gmm.covars_, axis=0))\n",
    "    mu_mean_list = np.array(mu_mean_list)[:,observable_col]\n",
    "    sigma_mean_list = np.array(sigma_mean_list)[:,observable_col]\n",
    "    "
   ]
  },
  {
   "cell_type": "code",
   "execution_count": 46,
   "metadata": {
    "collapsed": false
   },
   "outputs": [
    {
     "name": "stdout",
     "output_type": "stream",
     "text": [
      "predicted state:  [12 12 12 12 12 12 12 12 12 12 12 12 12 12 12 12 12 12 12 12 12 12 12 12 12\n",
      " 12 12 11 14 14 14 14 14 14 14 14 14 14 14 14 14 14 14 14 14 14 14]\n",
      "[[  2.39048202e+01   1.76275536e+00   8.68742366e+00   9.18195389e-03\n",
      "    9.40821808e+00  -9.67542539e-04   1.94341433e+00  -1.45483125e+00]\n",
      " [  4.44278269e+01   4.17353372e+00   2.56673222e+01  -1.21604608e+00\n",
      "    2.66840423e+01   1.62378054e-03   2.42350378e+00  -9.61011423e-01]\n",
      " [  9.31708719e+01   6.13601385e+00   2.08125852e+01  -1.52941277e-01\n",
      "    2.13327780e+01  -5.71948525e-03   3.13632388e+00  -4.49989452e-01]\n",
      " [  7.40194263e+01   4.52778185e+00  -1.16088115e+00   7.78001216e-01\n",
      "    4.99998691e-01   9.43358553e-02   1.71111041e+00  -1.57066673e+00]\n",
      " [  2.33606151e+01  -1.64526354e+00   1.80534377e+01  -6.56746090e-02\n",
      "    1.86056886e+01  -3.86685866e-02   2.15347650e+00  -1.83756806e+00]]\n"
     ]
    },
    {
     "data": {
      "image/png": "[encoded data removed]",
      "text/plain": [
       "<matplotlib.figure.Figure at 0x7f7f07a78ef0>"
      ]
     },
     "metadata": {},
     "output_type": "display_data"
    }
   ],
   "source": [
    "    for t in range(1,test.shape[0]):\n",
    "        beta_num = []\n",
    "        x = test_obs[t,:]\n",
    "        for k, gmm in enumerate(best_mode.gmms_):\n",
    "            omega = gmm.weights_\n",
    "            prob = 0\n",
    "            for m in gmm.means_.shape[0]:\n",
    "                mu = gmm.means_[m,observable_col]\n",
    "                sigma = np.diagnal(gmm.covars_[m,observable_col])\n",
    "                prob += omega[m]*gaussian(x,best_model.gmms_[0].means)\n",
    "            beta_num.append(np.sum(beta * A[:,k]) * prob)\n",
    "        beta = beta_num/np.sum(beta_num)\n",
    "        \n",
    "        np.dot(beta,mu_mean_list)\n",
    "        "
   ]
  },
  {
   "cell_type": "code",
   "execution_count": 31,
   "metadata": {
    "collapsed": true
   },
   "outputs": [],
   "source": []
  },
  {
   "cell_type": "code",
   "execution_count": null,
   "metadata": {
    "collapsed": true
   },
   "outputs": [],
   "source": []
  }
 ],
 "metadata": {
  "anaconda-cloud": {},
  "kernelspec": {
   "display_name": "Python 3",
   "language": "python",
   "name": "python3"
  },
  "language_info": {
   "codemirror_mode": {
    "name": "ipython",
    "version": 3
   },
   "file_extension": ".py",
   "mimetype": "text/x-python",
   "name": "python",
   "nbconvert_exporter": "python",
   "pygments_lexer": "ipython3",
   "version": "3.6.0"
  }
 },
 "nbformat": 4,
 "nbformat_minor": 1
}
